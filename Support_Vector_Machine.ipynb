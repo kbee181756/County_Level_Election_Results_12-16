{
  "nbformat": 4,
  "nbformat_minor": 0,
  "metadata": {
    "colab": {
      "name": "Support Vector Machine.ipynb",
      "version": "0.3.2",
      "provenance": [],
      "include_colab_link": true
    },
    "kernelspec": {
      "name": "python3",
      "display_name": "Python 3"
    }
  },
  "cells": [
    {
      "cell_type": "markdown",
      "metadata": {
        "id": "view-in-github",
        "colab_type": "text"
      },
      "source": [
        "[View in Colaboratory](https://colab.research.google.com/github/kbee181756/County_Level_Election_Results_12-16/blob/master/Support_Vector_Machine.ipynb)"
      ]
    },
    {
      "metadata": {
        "id": "mBAWiyl8Czqk",
        "colab_type": "code",
        "colab": {
          "base_uri": "https://localhost:8080/",
          "height": 282
        },
        "outputId": "f1e6224b-d090-44f7-d059-96e1a84f28ed"
      },
      "cell_type": "code",
      "source": [
        "#to help us perform math operations \n",
        "import numpy as np\n",
        "#to plot our data and model visually\n",
        "from matplotlib import pyplot as plt \n",
        "%matplotlib inline \n",
        "\n",
        "#Step 1 - Define our data \n",
        "\n",
        "#Input data - Of the form [X value, Y value, Bias term]\n",
        "\n",
        "X = np.array([\n",
        "             [-2, 4, -1], \n",
        "             [4, 1, -1],\n",
        "             [1, 6, -1],\n",
        "             [2, 4, -1], \n",
        "             [6, 2, -1],\n",
        "])\n",
        "\n",
        "#Associated output labels - First 2 examples are labeled \"-1\" and the last 3 are labeled \"1\"\n",
        "\n",
        "y = np.array([-1, -1, 1, 1, 1])\n",
        "\n",
        "#lets plot these examples of on a 2D graph! \n",
        "#for each example\n",
        "for d, sample in enumerate (X):\n",
        "  #Plot the negative samples (the first 2)\n",
        "  if d < 2: \n",
        "    plt.scatter(sample[0], sample [1], s=120, marker=\"_\", linewidths=2)\n",
        "    #Plot the positive samples (the last 3)\n",
        "  else:\n",
        "      plt.scatter(sample[0], sample [1], s=120, marker=\"+\", linewidths=2)\n",
        "\n",
        "#Print a possible hyperplane, that is seperating the two classes.   \n",
        "#we'll use two points and draw the libe between them (naive guess)\n",
        "plt.plot([-2,6], [6,0.5])    "
      ],
      "execution_count": 12,
      "outputs": [
        {
          "output_type": "execute_result",
          "data": {
            "text/plain": [
              "[<matplotlib.lines.Line2D at 0x7fdd1e0adb70>]"
            ]
          },
          "metadata": {
            "tags": []
          },
          "execution_count": 12
        },
        {
          "output_type": "display_data",
          "data": {
            "image/png": "[encoded data removed]",
            "text/plain": [
              "<matplotlib.figure.Figure at 0x7fdd0a0edba8>"
            ]
          },
          "metadata": {
            "tags": []
          }
        }
      ]
    },
    {
      "metadata": {
        "id": "XnZGanvsJfGl",
        "colab_type": "code",
        "colab": {}
      },
      "cell_type": "code",
      "source": [
        "#lets perform stochastic gradient descent to learn the seperating hyperplane\n",
        "\n",
        "def svm_sgd_plot(X, Y):\n",
        "  #initialize our SVMs weight vector with zeros (3 values)\n",
        "  w = np.zeros(len(X[0]))\n",
        "  #the learning rate\n",
        "  eta = 1 \n",
        "  #how many iterations to train for\n",
        "  epochs = 100000\n",
        "  #store misclassification so we can plot how they change over time \n",
        "  errors = []\n",
        "  \n",
        "  #training part, gradient descent part\n",
        "  for epoch in range(1, epochs):\n",
        "    error = 0 \n",
        "    for i, x in enumerate(X):\n",
        "      #misclassification \n",
        "      if (Y[i]*np.dot(X[i], w)) < 1:\n",
        "        #misclassified update for our weights\n",
        "        w = w + eta * ((X[i] * Y[i]) + (-2 * (1/epoch)* w)) \n",
        "        error = 1 \n",
        "      else:\n",
        "        #correct classfication, update our weights\n",
        "        w = w + eta * (-2 * (1/epoch) * w)\n",
        "        errors.append(error)\n",
        "        \n",
        "  #let plot the rate of classification errors during training for our SVM\n",
        "    \n",
        "    plt.plot(errors, '|')\n",
        "    plt.ylim(0.5, 1.5)\n",
        "    plt.axes().set_yticklabels([])\n",
        "    plt.xlabel(\"Epoch\")\n",
        "    plt.ylabel(\"Misclassified\")\n",
        "    plt.show() \n",
        "    \n",
        "    return w \n",
        "        "
      ],
      "execution_count": 0,
      "outputs": []
    },
    {
      "metadata": {
        "id": "Cvp69scEQwzc",
        "colab_type": "code",
        "colab": {}
      },
      "cell_type": "code",
      "source": [
        "for d, sample in enumerate(X):\n",
        "  # Plot the negative samples\n",
        "  if d < 2: \n",
        "    plt.scatter(sample[0], sample[1], s=120, marker=\"_\", linewidths=2)\n",
        "    # Plot the positive samples \n",
        "  else:\n",
        "      plt.scatter(sample[0], sample[1], s=120, marker=\"+\", linewidths=2)\n",
        " \n",
        "#Add our test samples \n",
        "plt.scatter(2,2, s=120, marker=\"_\", linewidths=2, color=\"yellow\")\n",
        "plt.scatter(4,3, s=120, marker=\"+\", linewidths=2, color=\"blue\")\n",
        "\n",
        "#Print the hyperplane calculated by the svm_sgd()\n",
        "x2=[w[0], w[1], -w[1], w[0]]\n",
        "x3=[w[0], w[1], w[1], -w[0]]\n",
        "\n",
        "x2x3 = np.array([x2,x3])\n",
        "X,Y,U,V = zip(*x2x3)\n",
        "ax = plt.gca()\n",
        "ax.quiver(X,Y,U,V,scale=1, color=\"blue\")"
      ],
      "execution_count": 0,
      "outputs": []
    },
    {
      "metadata": {
        "id": "wy706kIHVYJw",
        "colab_type": "code",
        "colab": {
          "base_uri": "https://localhost:8080/",
          "height": 333
        },
        "outputId": "18ccc962-eae0-4701-e781-2938935feff2"
      },
      "cell_type": "code",
      "source": [
        "w = svm_sgd_plot(X, y)"
      ],
      "execution_count": 50,
      "outputs": [
        {
          "output_type": "stream",
          "text": [
            "/usr/local/lib/python3.6/dist-packages/matplotlib/cbook/deprecation.py:106: MatplotlibDeprecationWarning: Adding an axes using the same arguments as a previous axes currently reuses the earlier instance.  In a future version, a new instance will always be created and returned.  Meanwhile, this warning can be suppressed, and the future behavior ensured, by passing a unique label to each axes instance.\n",
            "  warnings.warn(message, mplDeprecation, stacklevel=1)\n"
          ],
          "name": "stderr"
        },
        {
          "output_type": "display_data",
          "data": {
            "image/png": "[encoded data removed]",
            "text/plain": [
              "<matplotlib.figure.Figure at 0x7fdd09ff9cf8>"
            ]
          },
          "metadata": {
            "tags": []
          }
        }
      ]
    }
  ]
}